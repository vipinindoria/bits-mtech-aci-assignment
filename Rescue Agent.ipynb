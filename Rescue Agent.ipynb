{
 "cells": [
  {
   "cell_type": "markdown",
   "metadata": {},
   "source": [
    "# Artificial and Computational Intelligence Assignment 1"
   ]
  },
  {
   "cell_type": "markdown",
   "metadata": {},
   "source": [
    "| S.No. | Name | BITS ID | Contribution Percentage |\n",
    "| -------| ---- | ------- | ----------------------- |\n",
    "| 1. | Vipin Indoria | 2021FC04245 | 100 |\n",
    "| 2. | Rahul Kant Tripathy | 2021FC04539 | 100 |\n",
    "| 3. | Anuroop Bisaria | 2021FC04237 | 100 |\n",
    "| 4. | Maneesh Kumar Shrivastava | Please add | 100 |"
   ]
  },
  {
   "cell_type": "markdown",
   "metadata": {},
   "source": [
    "## Rescue Agent\n",
    "\n",
    "\n",
    "\n",
    "**Background:**  \n",
    "Group of peoples were trapped in Kangaroo Island due to sudden Bush Fire. Given below is the picture of a forest as a grid. Due to heavy Bush Fire some of the paths for main entrance are blocked. They are in the position to reach main entrance quickly because of fast spreading of fire. You have a rescue agent to help you find the shortest, quickest and safest route through the\n",
    "available paths avoiding the blockades so that you can reach main entrance safely. You are provided with the map of the forest with the current situation marked. Use the following algorithms to find the safest path.\n",
    "\n",
    "1. Breadth First Search and  \n",
    "2. Recursive Best First Search\n",
    "\n",
    "**Note:**  \n",
    "No diagonal movements allowed. You cannot pass through river and fire affected area. 10 points to be added when your path passes to adjacent for every fire block. 5 points to be reduced when your path passes to river block. For every transition +3 should be added as step cost. The path which passes through minimum number of squares and minimum points is the shortest and safest path. Squared Euclidian distance can be considered as heuristic value."
   ]
  },
  {
   "cell_type": "markdown",
   "metadata": {},
   "source": [
    "## 1.\tDefine the Environment "
   ]
  },
  {
   "cell_type": "markdown",
   "metadata": {},
   "source": [
    "PEAS stands for “Performance Environment Actuator Sensor”. It is used to specify the setting for an intelligent agent design. PEAS is a type of model on which an AI agent works upon.\n",
    "\n",
    "* P -> Performance -> It judges the performance of an agent.\n",
    "* E -> Environment -> Real environment where the agent works. It basically consists of all the things under which the agents work.\n",
    "* A -> Actuator -> Output of the agent. They are tools or equipments to perform an action.\n",
    "* S -> Sensor -> Input to the agent. They are tools or equipments that capture the state of the environment."
   ]
  },
  {
   "cell_type": "markdown",
   "metadata": {},
   "source": [
    "#### Performance Measures:\n",
    "\n",
    "1. Safety of Group of People\n",
    "2. Finding Route Adjacent to River\n",
    "3. Minimize Distance to Main Entrance\n",
    "4. Correct Categorization of Fire, Water and Safe Passage\n",
    "\n",
    "#### Environment\n",
    "\n",
    "1. Group of People\n",
    "2. Kangaroo Island\n",
    "3. Fire\n",
    "4. River\n",
    "5. Routes\n",
    "\n",
    "#### Actuator\n",
    "\n",
    "1. Arm, Legs & Joint Angle Motors of Rescue Agent\n",
    "2. Signal for Various Categories i.e. Fire, Water & Safe Route\n",
    "3. Speakers\n",
    "\n",
    "#### Sensors\n",
    "\n",
    "1. MWIR infrared (IR) Cameras\n",
    "2. Proximity sensor\n",
    "3. Speedometer\n",
    "4. GPS\n",
    "5. Temperature\n",
    "6. Camera"
   ]
  },
  {
   "cell_type": "markdown",
   "metadata": {},
   "source": [
    "### Given Problem, Assumptions & Derivations\n",
    "\n",
    "Below is the given layout of the landscape of Kangaroo Island with Routes and Obstacles i.e. Fire & Water.\n",
    "![title](docs/ra.png)\n",
    "\n",
    "From above image we can see that Group of People shown in 4 blocks and main entrance gate in 3 blocks. In order to create enviroemnt matrix we have taken few assumptions as below-\n",
    "\n",
    "1. Family is in single square block\n",
    "2. Main entrance is in one square block\n",
    "\n",
    "Since as per given rules in note i.e. every step in green box counts for +3 weight, every step adjacent to fire block counts for +10 weights and every step adjacent to river block counts for -5 weights. We can not trverse through fire & river i.e. obstacle blocks. We can not traverse through diagonaly as well. Now from this few examples i.e.\n",
    "\n",
    "* row=0, column=0 - this block is green block and adjacent to 1 fire and 1 water block, hence total weight = +3 + 10 - 5 = 8\n",
    "* row=0, column=1 and row=1, column=0 - these blocks are water and fire respectively, hence obstacle so total weight = 0\n",
    "* row=1, column=4 - this block is green block and adjacent to 2 fire block, hence total weight = +3 + 10 + 10 = 23\n",
    "* row=3, column=1 - this block is green block and adjacent to 1 water block, hence total weight = +3 - 5 = -2\n",
    "* row=5, column=6 - this block is green block and adjacent to 1 fire block, hence total weight = +3 + 10 = 13\n",
    "\n",
    "Now using above derivations we can calculate the complete enviroment matrix."
   ]
  },
  {
   "cell_type": "code",
   "execution_count": 1,
   "metadata": {},
   "outputs": [],
   "source": [
    "# Import required libraries\n",
    "from collections import deque\n",
    "\n",
    "import matplotlib.pyplot as plt\n",
    "from matplotlib.colors import ListedColormap\n",
    "import matplotlib.patches as mpatches"
   ]
  },
  {
   "cell_type": "markdown",
   "metadata": {},
   "source": [
    "**Set Initial State (Must handle dynamic inputs)**"
   ]
  },
  {
   "cell_type": "code",
   "execution_count": 2,
   "metadata": {},
   "outputs": [],
   "source": [
    "class Point:\n",
    "    '''\n",
    "    Define the initial state of group of people and main entrance dynamically. Constructor of this class takes the\n",
    "    coordinates i.e. row and column indexof these states and returns a Point object as state object.\n",
    "    \n",
    "    Parameters:\n",
    "    x (int): row number for the given state\n",
    "    y (int): column number for the given state\n",
    "  \n",
    "    Returns:\n",
    "    None \n",
    "    '''\n",
    "\n",
    "    def __init__(self, x = 0, y = 0):\n",
    "        '''Class constructor with default coordinates as (0,0)'''\n",
    "        self.x = x\n",
    "        self.y = y\n",
    "\n",
    "    def __repr__(self):\n",
    "        '''Display the state coordinates'''\n",
    "        return f'(x,y): ({self.x},{self.y})'\n",
    "\n",
    "    def __add__(self, other):\n",
    "        '''Successor function for state transition which adds current state coordinates with given other coordinates\n",
    "        Parameters:\n",
    "            other (Point): point coordinates of other state\n",
    "        \n",
    "        Returns:\n",
    "            Point: point coordinates of successor state\n",
    "        '''\n",
    "        return Point(self.x + other.x, self.y + other.y)\n",
    "\n",
    "    def __eq__(self, other):\n",
    "        '''Goal test function to check if two states are same by comparing the coordinates\n",
    "        Parameters:\n",
    "            other (Point): point coordinates of other state\n",
    "        \n",
    "        Returns:\n",
    "            Boolean: true or false\n",
    "        '''\n",
    "        return self.x == other.x and self.y == other.y"
   ]
  },
  {
   "cell_type": "markdown",
   "metadata": {},
   "source": [
    "**Set the matrix for transition & cost (as relevant for the given problem)**"
   ]
  },
  {
   "cell_type": "code",
   "execution_count": 3,
   "metadata": {},
   "outputs": [],
   "source": [
    "# Transition & Cost matrix based on problem statement - \n",
    "def get_enviornment_matrix():\n",
    "    #Fire= -1, River= 0, Path= 1\n",
    "    landscape_matrix = [[ 1, 0, -1, -1, 1, 1, -1 ], \n",
    "                        [ -1, 0, -1, 1, 1, 1, 1 ],\n",
    "                        [ 1, 0, 1, 1, -1, 1, -1 ],\n",
    "                        [ 1, 0, 0, 0, 0, 1, 1 ],\n",
    "                        [ 1, 1, -1, 1, 1, 1, -1 ],\n",
    "                        [ 1, 1, 1, 1, -1, 1, 1 ],\n",
    "                        [ 1, 1, -1, 1, 1, 1, 1 ]]\n",
    "    \n",
    "    cost_matrix = [[ 8, 0, 0, 0, 13, 13, 0 ],\n",
    "                   [ 0, 0, 0, 23, 13, 3, 23 ],\n",
    "                   [ 8, 0, 3, 8, 0, 23, 0 ],\n",
    "                   [ -2, 0, 0, 0, 0, -2, 23 ],\n",
    "                   [ 3, 8, 0, 8, 8, 13, 0 ],\n",
    "                   [ 3, 3, 23, 13, 0, 13, 13 ],\n",
    "                   [ 3, 13, 0, 13, 13, 3, 3 ]]\n",
    "    return landscape_matrix, cost_matrix"
   ]
  },
  {
   "cell_type": "markdown",
   "metadata": {},
   "source": [
    "**Write function to design the Transition Model/Successor function. Ideally this would be called while search algorithms are implemented**\n",
    "\n",
    "This function is part on `Point` class implementation with defination `def __add__(self, other):`"
   ]
  },
  {
   "cell_type": "markdown",
   "metadata": {},
   "source": [
    "**Write fucntion to handle goal test (Must handle dynamic inputs). Ideally this would be called while search algorithms are implemented**\n",
    "\n",
    "This function is part on `Point` class implementation with defination `def __eq__(self, other):`"
   ]
  },
  {
   "cell_type": "markdown",
   "metadata": {},
   "source": [
    "**Common Utility Methods**"
   ]
  },
  {
   "cell_type": "code",
   "execution_count": 4,
   "metadata": {},
   "outputs": [],
   "source": [
    "class CommonUtility:\n",
    "    '''\n",
    "    This class implements the common utility methods required to help in designing the algorithm functions.\n",
    "    '''\n",
    "    \n",
    "    def __init__(self, row_size=0, column_size=0):\n",
    "        '''Class constructor which creates the utility class object for a given environment matrix with given number\n",
    "        of rows and columns and movements vectors.'''\n",
    "        self.rows = row_size\n",
    "        self.columns = column_size\n",
    "        \n",
    "        # (row,column) numbers of 4 neighbours of a given cell\n",
    "        # movements - up (-1,0), down (1, 0), left (0, -1) and right (0, 1)\n",
    "        self.row_movements = [-1, 0, 0, 1]\n",
    "        self.column_movements = [0, -1, 1, 0]\n",
    "    \n",
    "    def is_valid(self, row: int, col: int):\n",
    "        '''\n",
    "        Check weather a successor i.e. given cell is valid or not by verifying the cell coordinates.\n",
    "        Parameters:\n",
    "            row (int): row index of successor state\n",
    "            col (int): column index of successor state\n",
    "        \n",
    "        Returns:\n",
    "            Boolean: true and false\n",
    "        '''\n",
    "        return (row >= 0) and (row < self.rows) and (col >= 0) and (col < self.columns)\n",
    "    \n",
    "    def get_row_num(self, idx: int):\n",
    "        '''\n",
    "        Get the row number for the neighbouring cell of given current cell\n",
    "        Parameters:\n",
    "            idx (int): index of row movement vector\n",
    "        Returns:\n",
    "            (int): row movement value\n",
    "        '''\n",
    "        return self.row_movements[idx]\n",
    "    \n",
    "    def get_column_num(self, idx: int):\n",
    "        '''\n",
    "        Get the column number for the neighbouring cell of given current cell\n",
    "        Parameters:\n",
    "            idx (int): index of column movement vector\n",
    "        Returns:\n",
    "            (int): column movement value\n",
    "        '''\n",
    "        return self.column_movements[idx]\n",
    "    \n",
    "    def plot_path_matrix(self, landscape_matrix, path):\n",
    "        '''\n",
    "        This function will print the landscape matrix with path.\n",
    "        Parameters:\n",
    "            lanscape_matrix (List[List[int]]): Landscape matrix\n",
    "            path (QueueNode[Point[int, int]]): Path from soource to destination\n",
    "        Returns:\n",
    "            None\n",
    "        '''\n",
    "        # Update matrix with rescue route path Route= 2\n",
    "        for cell in path:\n",
    "            point = cell.pt\n",
    "            r, c = point.x, point.y\n",
    "            landscape_matrix[r][c] = 2\n",
    "        # orange=Fire, blue=River, green=Path, Gray=Route\n",
    "        colors = ['orange', 'blue', 'green', 'gray']\n",
    "        labels = [\"Fire\", \"River\", \"Path\", \"Rescue Route\"]\n",
    "        cmap = ListedColormap(colors, name='colors', N=None)\n",
    "        plt.figure(figsize = (8,8))\n",
    "        # create a patch (proxy artist) for every color \n",
    "        patches = [ mpatches.Patch(color=colors[i], label=labels[i]) for i in range(len(labels)) ]\n",
    "        # put those patched as legend-handles into the legend\n",
    "        plt.legend(handles=patches, bbox_to_anchor=(1.05, 1), loc=2, borderaxespad=0.)\n",
    "        plt.grid(True)\n",
    "        plt.imshow(landscape_matrix, cmap=cmap)\n",
    "        plt.show()\n",
    "        \n",
    "    def print_path(self, path):\n",
    "        '''\n",
    "        This function will print the path from source to destination.\n",
    "        Parameters:\n",
    "            path (QueueNode[Point[int, int]]): Path from soource to destination\n",
    "        Returns:\n",
    "            None\n",
    "        '''\n",
    "        for cell in path:\n",
    "            print(f\"Cell Coordinates {cell.pt} and Cummulative distance from Source: {cell.dist}\")"
   ]
  },
  {
   "cell_type": "markdown",
   "metadata": {},
   "source": [
    "## 2. Definition of Algorithm 1  (UNINFORMED SEARCH - BREADTH FIRST SEARCH)"
   ]
  },
  {
   "cell_type": "markdown",
   "metadata": {},
   "source": [
    "### Uninformed Search\n",
    "\n",
    "Based on the available information about the problem, the Search Algorithm is first categorized into Uninformed Search Algorithm, which generates the search tree without any domain-specific knowledge or additional information about the states beyond the information provided in the problem definitions. This class-purpose search algorithm, which is also known as Blind Search or Brute-Force Search, operates in a brute-force way and examines each root node of the search tree until it achieves the goal state.\n",
    "\n",
    "#### Requirements of Uninformed Search:\n",
    "Though Uninformed Search does not require excessive details about the problem, it does have a few search requirements, like:\n",
    "\n",
    "* **State Description:** States that are reachable from the initial state by any sequence of actions as well as details like where the search begins, ends, transition model, etc.  \n",
    "* **A valid set of Operations:** That helps find the most optimal solution with the lowest cost.  \n",
    "* **Initial State:** Information about the stage where the agent first starts the search.  \n",
    "* **Goal State Description:** Details like the limit of the search tree, the sequence of nodes from start to goal, etc. should be considered.  \n",
    "\n",
    "#### Components Included in Uninformed Search:\n",
    "In Uninformed Search Algorithms, each of the six search strategies covers the following components, which becomes helpful at a different stage of problem-solving. These components are:\n",
    "\n",
    "* **Problem Graph:** Contains the start and goal nodes.  \n",
    "* **Strategy:** Describes the manner in which the graph will get to the goal.  \n",
    "* **Fringe:** Includes the data structure used to store all the possible states that can be achieved from the current state.  \n",
    "* **Tree:** It is the result of traversing from the start node to the goal node.  \n",
    "* **Solution Plan:** This is the sequence of nodes from the start to the goal node.  \n",
    "\n",
    "### Breadth-First Search\n",
    "The most common search strategy, breadth-first search, starts from the root node, explores the neighboring nodes first and moves towards the next level. Implemented using the First-in First-out (FIFO) queue data structure, this is an example of a general-graph search algorithm that provides the shortest path to the solution.\n",
    "\n",
    "The algorithm uses a queue to remember to get the next vertex to start a search as well as when a dead end occurs in any iteration. Without this queue, it won’t be able to identify and mark visited vertices and will process them again, which can then become a non-terminating process.  "
   ]
  },
  {
   "cell_type": "code",
   "execution_count": 5,
   "metadata": {},
   "outputs": [],
   "source": [
    "class QueueNode:\n",
    "    '''\n",
    "    Keep track of the coordinate Point of the current cell and cell's distance from source cell.\n",
    "    \n",
    "    Parameters:\n",
    "    pt (Point): current cell coordinates\n",
    "    dist (int): airthmetic distance between cell and source state\n",
    "  \n",
    "    Returns:\n",
    "        None \n",
    "    '''\n",
    "    def __init__(self, pt: Point, dist: int):\n",
    "        '''Constructor of the QueueNode class'''\n",
    "        self.pt = pt\n",
    "        self.dist = dist"
   ]
  },
  {
   "cell_type": "code",
   "execution_count": 6,
   "metadata": {},
   "outputs": [],
   "source": [
    "class BreadthFirstSearch:\n",
    "    '''Breadth-First Search Algorithm'''\n",
    "    \n",
    "    def __init__(self, mat, src: Point, dest: Point):\n",
    "        '''\n",
    "        Initialize the environment matrix, source cell and destination cell coordinates.\n",
    "    \n",
    "        Parameters:\n",
    "            mat (list(list)): matrix having enviroment information defining each cell as weights\n",
    "            src (Point): source cell coordinates\n",
    "            dest (Point): destination cell coordinates\n",
    "\n",
    "        Returns:\n",
    "            distance, number of cells traversed\n",
    "        '''        \n",
    "        self.mat = mat\n",
    "        self.src = src\n",
    "        self.dest = dest\n",
    "        \n",
    "    def run_BFS(self):\n",
    "        '''Main function to run the breadth first search algorithm.'''\n",
    "        no_rows = len(self.mat)\n",
    "        no_columns = len(self.mat[0])\n",
    "        \n",
    "        # Initialize space & time complexity\n",
    "        # Here we assume that 1 operation takes 1 unit time and 1 node takes 1 unit space\n",
    "        time_complexity, space_complexity = 0, 0\n",
    "        \n",
    "        # create CommonUtility class object\n",
    "        cu = CommonUtility(no_rows, no_columns)\n",
    "        \n",
    "        # check source and destination cell of the matrix have valid coordinates inside landscape\n",
    "        if not cu.is_valid(self.src.x, self.src.y) or not cu.is_valid(self.dest.x, self.dest.y):\n",
    "            return -1, f\"Please Check, Source {self.src} or Destination {self.dest} Coordinates are not Valid.\"\n",
    "        \n",
    "        # check source and destination cell of the matrix have value not equal to 0 i.e. not a obstacle cell\n",
    "        if self.mat[self.src.x][self.src.y]==0 or self.mat[self.dest.x][self.dest.y]==0:\n",
    "            return -1, f\"Please Check, Source {self.src} or Destination {self.dest} Coordinates are on Obstacle.\"\n",
    "        \n",
    "        # create a matrix of visited & non visited cells marked as True & False i.e. closed list\n",
    "        visited = [[False for i in range(no_columns)] for j in range(no_rows)]\n",
    "\n",
    "        # mark the source cell as visited\n",
    "        visited[self.src.x][self.src.y] = True\n",
    "\n",
    "        # create a queue for BFS i.e. open list\n",
    "        q = deque()\n",
    "        \n",
    "        # distance of source cell is 0\n",
    "        s = QueueNode(self.src,0)\n",
    "        \n",
    "        # Path vector to store the current path\n",
    "        path = []\n",
    "        path.append(s)\n",
    "\n",
    "        # enqueue source cell\n",
    "        q.append(path.copy())\n",
    "\n",
    "        # do a BFS starting from source cell\n",
    "        while q:\n",
    "            # Iterating through the nodes stored in queue, hence increase time complexity by 1 count and space complexity by 1\n",
    "            time_complexity = time_complexity + 1\n",
    "            space_complexity = space_complexity + 1\n",
    "            \n",
    "            # dequeue the front cell\n",
    "            path = q.popleft()\n",
    "            curr = path[len(path) - 1]\n",
    "\n",
    "            # if we have reached the destination cell, we are done i.e. Goal Test\n",
    "            pt = curr.pt\n",
    "            if pt == self.dest:\n",
    "                return (curr.dist, path, (time_complexity, space_complexity)), \"Path Exists between Source & Destination.\"\n",
    "            \n",
    "            # otherwise enqueue its adjacent cells\n",
    "            for i in range(4):\n",
    "                # Traversing to each edge of given node, hence increase time complexity by 1 count\n",
    "                time_complexity = time_complexity + 1\n",
    "                \n",
    "                # successor function for state transition\n",
    "                successor = pt + Point(cu.get_row_num(i), cu.get_column_num(i))\n",
    "                row = successor.x\n",
    "                col = successor.y\n",
    "\n",
    "\n",
    "                # if adjacent cell is valid, has path and not visited yet, enqueue it\n",
    "                if (cu.is_valid(row, col) and self.mat[row][col] != 0 and not visited[row][col]):\n",
    "                    visited[row][col] = True\n",
    "                    # path computation\n",
    "                    new_path = path.copy()\n",
    "                    adjacent_cell = QueueNode(Point(row, col), curr.dist + self.mat[row][col])\n",
    "                    new_path.append(adjacent_cell)\n",
    "                    q.append(new_path)\n",
    "        \n",
    "        # Return -1 if destination cannot be reached for cost & path\n",
    "        return (None, None,(time_complexity, space_complexity)), f\"Path doesn't exists between Source {self.src} & Destination {self.dest}.\""
   ]
  },
  {
   "cell_type": "markdown",
   "metadata": {},
   "source": [
    "## 3. Definition of Algorithm 2 (INFORMED SEARCH - Recursive Best First Search)"
   ]
  },
  {
   "cell_type": "markdown",
   "metadata": {},
   "source": [
    "# Recursive Best First Search\n",
    "\n",
    "Recursive best-first search is a simple recursive algorithm that improves upon heuristic search by reducing the memory requirement. RBFS uses only linear space and it attempts to mimic the operation of standard best-first search. Its structure is similar to recursive depth-first search but it doesn't continue indefinitely down the current path, the f_limit variable is used to keep track of the f-value of the best alternative path available from any ancestor of the current node. RBFS remembers the f-value of the best leaf in the forgotten subtree and can decide whether it is worth re-expanding the tree later.\n",
    "However, RBFS still suffers from excessive node regeneration."
   ]
  },
  {
   "cell_type": "code",
   "execution_count": 20,
   "metadata": {},
   "outputs": [],
   "source": [
    "# each block will have its own position and cost of steps taken\n",
    "class Node:\n",
    "    def __init__(self, pos: Point, cost):\n",
    "        self.pos = pos\n",
    "        self.cost = cost\n",
    "        \n",
    "\n",
    "def create_node(x, y, c):\n",
    "    val = Point(x, y)\n",
    "    return Node(val, c + 1)\n",
    "\n",
    "\n",
    "#RBFS alorithm for rescue agent\n",
    "def RBFS(Grid, dest, source):\n",
    "    #Time and Space Complexity Measurement variables\n",
    "    rbfs_tcom = 0\n",
    "    rbfs_scom = 0\n",
    "    adj_cell_x = [1, 0, 0, -1]\n",
    "    adj_cell_y = [0, 1, -1, 0]\n",
    "    m, n = (len(Grid), len(Grid))\n",
    "    visited_blocks = [[False for i in range(m)]\n",
    "               for j in range(n)]\n",
    "    visited_blocks[source.x][source.y] = True\n",
    "    stack = deque()\n",
    "    sol = Node(source, 0)\n",
    "    stack.append(sol)\n",
    "    rbfs_scom = rbfs_scom + 1\n",
    "    neigh = 4\n",
    "    neighbours = []\n",
    "    cost = 0\n",
    "    while stack:\n",
    "        rbfs_tcom = rbfs_tcom + 1\n",
    "        current_block = stack.pop()\n",
    "        current_pos = current_block.pos\n",
    "        print(current_pos , f\"Distance from Source: {cost}\")\n",
    "        if current_pos.x == dest.x and current_pos.y == dest.y:\n",
    "            print(\"\\nPath Exists between Source & Destination.\")\n",
    "            print(\"\\nTotal Cost from Source to Destination = \", cost)\n",
    "            print(\"Space Complexity: \", rbfs_scom)\n",
    "            print(\"Time Complexity: \", rbfs_tcom)\n",
    "            return current_block.cost\n",
    "        x_pos = current_pos.x\n",
    "        y_pos = current_pos.y\n",
    "     \n",
    "        for i in range(neigh):\n",
    "            rbfs_tcom = rbfs_tcom + 1\n",
    "            if x_pos == len(Grid) - 1 and adj_cell_x[i] == 1:\n",
    "                x_pos = current_pos.x\n",
    "                y_pos = current_pos.y + adj_cell_y[i]\n",
    "            if y_pos == 0 and adj_cell_y[i] == -1:\n",
    "                x_pos = current_pos.x + adj_cell_x[i]\n",
    "                y_pos = current_pos.y\n",
    "            else:\n",
    "                x_pos = current_pos.x + adj_cell_x[i]\n",
    "                y_pos = current_pos.y + adj_cell_y[i]\n",
    "            if x_pos != 7 and x_pos != -1 and y_pos != 7 and y_pos != -1:\n",
    "                if Grid[x_pos][y_pos] == 1:\n",
    "                    if not visited_blocks[x_pos][y_pos]:\n",
    "                        cost += 1\n",
    "                        visited_blocks[x_pos][y_pos] = True\n",
    "                        stack.append(create_node(x_pos, y_pos, current_block.cost))\n",
    "                        rbfs_scom = rbfs_scom + 1\n",
    "    return  -1        \n"
   ]
  },
  {
   "cell_type": "markdown",
   "metadata": {},
   "source": [
    "## Dynamic Input"
   ]
  },
  {
   "cell_type": "code",
   "execution_count": 8,
   "metadata": {},
   "outputs": [],
   "source": [
    "# Function & call to get inputs (start/end state)\n",
    "def get_state_inputs():\n",
    "    '''\n",
    "    This function reads dynamic inputs for the start/end state.\n",
    "    \n",
    "    Parameters:\n",
    "        None\n",
    "    \n",
    "    Returns:\n",
    "        source (Point): Point(x, y) coordinates of source state\n",
    "        dest (Point): Point(p, q) coordinates of destination state\n",
    "    '''\n",
    "    x = int(input(\"Enter x co-ordinate of start node:\"))\n",
    "    y = int(input(\"Enter y co-ordinate of start node:\"))\n",
    "    p = int(input(\"Enter x co-ordinate of destination node:\"))\n",
    "    q = int(input(\"Enter y co-ordinate of destination node:\"))\n",
    "    \n",
    "    source = Point(x, y)\n",
    "    dest = Point(p, q)\n",
    "    \n",
    "    return source, dest"
   ]
  },
  {
   "cell_type": "markdown",
   "metadata": {},
   "source": [
    "## 4. Calling the search algorithms"
   ]
  },
  {
   "cell_type": "markdown",
   "metadata": {},
   "source": [
    "**Invoke algorithm 1 (Should Print the solution, path, cost etc., (As mentioned in the problem))**"
   ]
  },
  {
   "cell_type": "code",
   "execution_count": 9,
   "metadata": {},
   "outputs": [
    {
     "name": "stdout",
     "output_type": "stream",
     "text": [
      "Enter x co-ordinate of start node:6\n",
      "Enter y co-ordinate of start node:6\n",
      "Enter x co-ordinate of destination node:2\n",
      "Enter y co-ordinate of destination node:0\n",
      "\n",
      "Path Exists between Source & Destination.\n",
      "\n",
      "Path from Source (x,y): (6,6) to Destination (x,y): (2,0) is having 11 square block and route is given as -\n",
      "Cell Coordinates (x,y): (6,6) and Cummulative distance from Source: 0\n",
      "Cell Coordinates (x,y): (6,5) and Cummulative distance from Source: 3\n",
      "Cell Coordinates (x,y): (6,4) and Cummulative distance from Source: 16\n",
      "Cell Coordinates (x,y): (6,3) and Cummulative distance from Source: 29\n",
      "Cell Coordinates (x,y): (5,3) and Cummulative distance from Source: 42\n",
      "Cell Coordinates (x,y): (5,2) and Cummulative distance from Source: 65\n",
      "Cell Coordinates (x,y): (5,1) and Cummulative distance from Source: 68\n",
      "Cell Coordinates (x,y): (4,1) and Cummulative distance from Source: 76\n",
      "Cell Coordinates (x,y): (4,0) and Cummulative distance from Source: 79\n",
      "Cell Coordinates (x,y): (3,0) and Cummulative distance from Source: 77\n",
      "Cell Coordinates (x,y): (2,0) and Cummulative distance from Source: 85\n",
      "\n",
      "Visual representation of landscape with path - \n"
     ]
    },
    {
     "data": {
      "image/png": "[encoded data removed]",
      "text/plain": [
       "<Figure size 576x576 with 1 Axes>"
      ]
     },
     "metadata": {
      "needs_background": "light"
     },
     "output_type": "display_data"
    },
    {
     "name": "stdout",
     "output_type": "stream",
     "text": [
      "\n",
      "Cost from Source (x,y): (6,6) to Destination (x,y): (2,0)= 85\n",
      "\n",
      "Space Complexity to store Nodes O(|V|) is 30 Unit.\n",
      "Time Complexity  to Iterate through Nodes + Edges O(|V+E|) is 146 Unit.\n"
     ]
    }
   ],
   "source": [
    "landscape_matrix, cost_matrix = get_enviornment_matrix()\n",
    "source, dest = get_state_inputs()\n",
    "bfs = BreadthFirstSearch(cost_matrix, source, dest)\n",
    "result, message = bfs.run_BFS()\n",
    "\n",
    "if result!=-1:\n",
    "    if result[0] is not None or result[1] is not None: \n",
    "        cu_obj = CommonUtility()\n",
    "        print(f\"\\n{message}\")\n",
    "        print(f\"\\nPath from Source {source} to Destination {dest} is having {len(result[1])} square block and route is given as -\")\n",
    "        cu_obj.print_path(result[1])\n",
    "        print(\"\\nVisual representation of landscape with path - \")\n",
    "        cu_obj.plot_path_matrix(landscape_matrix, result[1])\n",
    "        print(f\"\\nCost from Source {source} to Destination {dest}= {result[0]}\")\n",
    "        print(f\"\\nSpace Complexity to store Nodes O(|V|) is {result[2][1]} Unit.\") \n",
    "        print(f\"Time Complexity  to Iterate through Nodes + Edges O(|V+E|) is {result[2][0]} Unit.\")\n",
    "    else:\n",
    "        print(f\"\\n{message}\")\n",
    "        print(f\"\\nSpace Complexity to store Nodes O(|V|) is {result[2][1]} Unit.\")\n",
    "        print(f\"Time Complexity to Iterate through Nodes + Edges O(|V+E|) is {result[2][0]} Unit.\")\n",
    "elif result:\n",
    "    print(f\"\\n{message}\")"
   ]
  },
  {
   "cell_type": "markdown",
   "metadata": {},
   "source": [
    "**Invoke algorithm 2 (Should Print the solution, path, cost etc., (As mentioned in the problem))**"
   ]
  },
  {
   "cell_type": "code",
   "execution_count": 21,
   "metadata": {},
   "outputs": [
    {
     "name": "stdout",
     "output_type": "stream",
     "text": [
      "Enter x co-ordinate of start node:6\n",
      "Enter y co-ordinate of start node:6\n",
      "Enter x co-ordinate of destination node:2\n",
      "Enter y co-ordinate of destination node:0\n",
      "(x,y): (6,6) Distance from Source: 0\n",
      "(x,y): (5,6) Distance from Source: 2\n",
      "(x,y): (5,5) Distance from Source: 3\n",
      "(x,y): (4,5) Distance from Source: 4\n",
      "(x,y): (3,5) Distance from Source: 6\n",
      "(x,y): (2,5) Distance from Source: 8\n",
      "(x,y): (1,5) Distance from Source: 9\n",
      "(x,y): (0,5) Distance from Source: 12\n",
      "(x,y): (0,4) Distance from Source: 13\n",
      "(x,y): (1,4) Distance from Source: 13\n",
      "(x,y): (1,3) Distance from Source: 14\n",
      "(x,y): (2,3) Distance from Source: 15\n",
      "(x,y): (2,2) Distance from Source: 16\n",
      "(x,y): (1,6) Distance from Source: 16\n",
      "(x,y): (3,6) Distance from Source: 16\n",
      "(x,y): (4,4) Distance from Source: 16\n",
      "(x,y): (4,3) Distance from Source: 17\n",
      "(x,y): (5,3) Distance from Source: 18\n",
      "(x,y): (5,2) Distance from Source: 20\n",
      "(x,y): (5,1) Distance from Source: 21\n",
      "(x,y): (4,1) Distance from Source: 24\n",
      "(x,y): (4,0) Distance from Source: 25\n",
      "(x,y): (3,0) Distance from Source: 26\n",
      "(x,y): (2,0) Distance from Source: 27\n",
      "\n",
      "Path Exists between Source & Destination.\n",
      "\n",
      "Total Cost from Source to Destination =  27\n",
      "Space Complexity:  28\n",
      "Time Complexity:  116\n",
      "Steps with backtracking =  12\n"
     ]
    }
   ],
   "source": [
    "landscape_matrix, cost_matrix = get_enviornment_matrix()\n",
    "source, dest = get_state_inputs()\n",
    "result2 = RBFS(landscape_matrix, dest, source)\n",
    "if result2 != -1:\n",
    "    print(\"Steps with backtracking = \", result2)\n",
    "else:\n",
    "    print(\"Path does not exit\")"
   ]
  },
  {
   "cell_type": "markdown",
   "metadata": {},
   "source": [
    "## 5. Comparitive Analysis"
   ]
  },
  {
   "cell_type": "markdown",
   "metadata": {},
   "source": [
    "**Print the Time & Space complexity of algorithm 1 - Breadth First Search**"
   ]
  },
  {
   "cell_type": "code",
   "execution_count": 23,
   "metadata": {},
   "outputs": [
    {
     "name": "stdout",
     "output_type": "stream",
     "text": [
      "\n",
      "Space Complexity to store Nodes O(|V|) is 30 Unit.\n",
      "Time Complexity  to Iterate through Nodes + Edges O(|V+E|) is 146 Unit.\n"
     ]
    }
   ],
   "source": [
    "print(f\"\\nSpace Complexity to store Nodes O(|V|) is {result[2][1]} Unit.\") \n",
    "print(f\"Time Complexity  to Iterate through Nodes + Edges O(|V+E|) is {result[2][0]} Unit.\")"
   ]
  },
  {
   "cell_type": "markdown",
   "metadata": {},
   "source": [
    "**Print the Time & Space complexity of algorithm 2 - Recursive Best First Search**"
   ]
  },
  {
   "cell_type": "code",
   "execution_count": 24,
   "metadata": {},
   "outputs": [
    {
     "name": "stdout",
     "output_type": "stream",
     "text": [
      "Enter x co-ordinate of start node:6\n",
      "Enter y co-ordinate of start node:6\n",
      "Enter x co-ordinate of destination node:2\n",
      "Enter y co-ordinate of destination node:0\n",
      "(x,y): (6,6) Distance from Source: 0\n",
      "(x,y): (5,6) Distance from Source: 2\n",
      "(x,y): (5,5) Distance from Source: 3\n",
      "(x,y): (4,5) Distance from Source: 4\n",
      "(x,y): (3,5) Distance from Source: 6\n",
      "(x,y): (2,5) Distance from Source: 8\n",
      "(x,y): (1,5) Distance from Source: 9\n",
      "(x,y): (0,5) Distance from Source: 12\n",
      "(x,y): (0,4) Distance from Source: 13\n",
      "(x,y): (1,4) Distance from Source: 13\n",
      "(x,y): (1,3) Distance from Source: 14\n",
      "(x,y): (2,3) Distance from Source: 15\n",
      "(x,y): (2,2) Distance from Source: 16\n",
      "(x,y): (1,6) Distance from Source: 16\n",
      "(x,y): (3,6) Distance from Source: 16\n",
      "(x,y): (4,4) Distance from Source: 16\n",
      "(x,y): (4,3) Distance from Source: 17\n",
      "(x,y): (5,3) Distance from Source: 18\n",
      "(x,y): (5,2) Distance from Source: 20\n",
      "(x,y): (5,1) Distance from Source: 21\n",
      "(x,y): (4,1) Distance from Source: 24\n",
      "(x,y): (4,0) Distance from Source: 25\n",
      "(x,y): (3,0) Distance from Source: 26\n",
      "(x,y): (2,0) Distance from Source: 27\n",
      "\n",
      "Path Exists between Source & Destination.\n",
      "\n",
      "Total Cost from Source to Destination =  27\n",
      "Space Complexity:  28\n",
      "Time Complexity:  116\n"
     ]
    }
   ],
   "source": [
    "landscape_matrix, cost_matrix = get_enviornment_matrix()\n",
    "source, dest = get_state_inputs()\n",
    "result2 = RBFS(landscape_matrix, dest, source)"
   ]
  },
  {
   "cell_type": "markdown",
   "metadata": {},
   "source": [
    "## 6. Provide your comparitive analysis or findings in no more than 3 lines in below section"
   ]
  },
  {
   "cell_type": "markdown",
   "metadata": {},
   "source": [
    "As per the Above two algorithms used for finding the best possible route to Rescue peoples. \n",
    "BFS (Breadth First Search) always returns the solution that is closest to the root, which means that if the cost of each edge is the same for all edges, BFS returns the best solution.\n",
    "\n",
    "RBFS (Recursive Best First Search), It expands fronteir nodes in best-first order. It uses the problem specific information about the enviroment to determine the preference of one node over the other\n"
   ]
  },
  {
   "cell_type": "code",
   "execution_count": null,
   "metadata": {},
   "outputs": [],
   "source": []
  }
 ],
 "metadata": {
  "kernelspec": {
   "display_name": "Python 3 (ipykernel)",
   "language": "python",
   "name": "python3"
  },
  "language_info": {
   "codemirror_mode": {
    "name": "ipython",
    "version": 3
   },
   "file_extension": ".py",
   "mimetype": "text/x-python",
   "name": "python",
   "nbconvert_exporter": "python",
   "pygments_lexer": "ipython3",
   "version": "3.9.6"
  }
 },
 "nbformat": 4,
 "nbformat_minor": 4
}
