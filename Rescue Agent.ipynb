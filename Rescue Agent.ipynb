{
 "cells": [
  {
   "cell_type": "markdown",
   "metadata": {},
   "source": [
    "# Artificial and Computational Intelligence Assignment 1"
   ]
  },
  {
   "cell_type": "markdown",
   "metadata": {},
   "source": [
    "| S.No. | Name | BITS ID | Contribution Percentage |\n",
    "| -------| ---- | ------- | ----------------------- |\n",
    "| 1. | Vipin Indoria | 2021FC04245 | 100 |"
   ]
  },
  {
   "cell_type": "markdown",
   "metadata": {},
   "source": [
    "## Rescue Agent\n",
    "\n",
    "\n",
    "\n",
    "**Background:**  \n",
    "Group of peoples were trapped in Kangaroo Island due to sudden Bush Fire. Given below is the picture of a forest as a grid. Due to heavy Bush Fire some of the paths for main entrance are blocked. They are in the position to reach main entrance quickly because of fast spreading of fire. You have a rescue agent to help you find the shortest, quickest and safest route through the\n",
    "available paths avoiding the blockades so that you can reach main entrance safely. You are provided with the map of the forest with the current situation marked. Use the following algorithms to find the safest path.\n",
    "\n",
    "1. Breadth First Search and  \n",
    "2. Recursive Best First Search\n",
    "\n",
    "**Note:**  \n",
    "No diagonal movements allowed. You cannot pass through river and fire affected area. 10 points to be added when your path passes to adjacent for every fire block. 5 points to be reduced when your path passes to river block. For every transition +3 should be added as step cost. The path which passes through minimum number of squares and minimum points is the shortest and safest path. Squared Euclidian distance can be considered as heuristic value."
   ]
  },
  {
   "cell_type": "markdown",
   "metadata": {},
   "source": [
    "## 1.\tDefine the Environment "
   ]
  },
  {
   "cell_type": "markdown",
   "metadata": {},
   "source": [
    "PEAS stands for “Performance Environment Actuator Sensor”. It is used to specify the setting for an intelligent agent design. PEAS is a type of model on which an AI agent works upon.\n",
    "\n",
    "* P -> Performance -> It judges the performance of an agent.\n",
    "* E -> Environment -> Real environment where the agent works. It basically consists of all the things under which the agents work.\n",
    "* A -> Actuator -> Output of the agent. They are tools or equipments to perform an action.\n",
    "* S -> Sensor -> Input to the agent. They are tools or equipments that capture the state of the environment."
   ]
  },
  {
   "cell_type": "markdown",
   "metadata": {},
   "source": [
    "#### Performance Measures:\n",
    "\n",
    "1. Safety of Group of People\n",
    "2. Fast to Reach to Main Entrance\n",
    "3. Minimize Distance to Main Entrance\n",
    "4. Correct Categorization of Fire, Water and Safe Passage\n",
    "\n",
    "#### Environment\n",
    "\n",
    "1. Group of People\n",
    "2. Kangaroo Island\n",
    "3. Fire\n",
    "4. River\n",
    "5. Routes\n",
    "\n",
    "#### Actuator\n",
    "\n",
    "1. Arm, Legs & Joint Angle Motors of Rescue Agent\n",
    "2. Signal for Various Categories i.e. Fire, Water & Safe Route\n",
    "3. Speakers\n",
    "\n",
    "#### Sensors\n",
    "\n",
    "1. MWIR infrared (IR) Cameras\n",
    "2. Proximity sensor\n",
    "3. Speedometer\n",
    "4. GPS\n",
    "5. Temperature"
   ]
  },
  {
   "cell_type": "code",
   "execution_count": null,
   "metadata": {},
   "outputs": [],
   "source": []
  }
 ],
 "metadata": {
  "kernelspec": {
   "display_name": "Python 3 (ipykernel)",
   "language": "python",
   "name": "python3"
  },
  "language_info": {
   "codemirror_mode": {
    "name": "ipython",
    "version": 3
   },
   "file_extension": ".py",
   "mimetype": "text/x-python",
   "name": "python",
   "nbconvert_exporter": "python",
   "pygments_lexer": "ipython3",
   "version": "3.9.7"
  }
 },
 "nbformat": 4,
 "nbformat_minor": 4
}
