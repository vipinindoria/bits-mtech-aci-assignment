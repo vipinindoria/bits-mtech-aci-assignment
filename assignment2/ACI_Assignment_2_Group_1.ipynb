{
 "cells": [
  {
   "cell_type": "markdown",
   "id": "349b329b",
   "metadata": {},
   "source": [
    "## Artificial and Computational Intelligence Assignment 2"
   ]
  },
  {
   "cell_type": "markdown",
   "id": "ef73df95",
   "metadata": {},
   "source": [
    "## Gaming with Min-Max Algorithm"
   ]
  },
  {
   "cell_type": "markdown",
   "id": "135a6db2",
   "metadata": {},
   "source": [
    "### List only the BITS (Name) of active contributors in this assignment:\n",
    "1. Anuroop Bisaria - 2021FC04237\n",
    "2. Vipin Indoria – 2021FC04245\n",
    "3. Rahul Kant Tripathy – 2021FC04539\n",
    "4. Maneesh Kumar Shrivastava - 2021FC04011"
   ]
  },
  {
   "cell_type": "markdown",
   "id": "ae16f9ad",
   "metadata": {},
   "source": [
    "### PEAS - Data structures and fringes that define the Agent environment goes here"
   ]
  },
  {
   "cell_type": "code",
   "execution_count": 3,
   "id": "1e1e1546",
   "metadata": {},
   "outputs": [],
   "source": [
    "# Using the Python-Chess library for tracking board position\n",
    "import chess\n",
    "import re\n",
    "\n",
    "# Helper functions to show list of valid moves within the smaller game space\n",
    "def check_valid_move(move, size):\n",
    "    is_valid =0\n",
    "    cols = ['a','b','c','d','e','f','g','h']\n",
    "    move_string = move.uci()\n",
    "    for i in range(0, size):\n",
    "        if(cols[i] == move_string[0]):\n",
    "            is_valid = 1\n",
    "            break\n",
    "    if(is_valid == 1):\n",
    "        is_valid = 0\n",
    "        for i in range(0, size):\n",
    "            if(cols[i]==move_string[2]):\n",
    "                is_valid =1\n",
    "                break            \n",
    "    if(is_valid == 1):\n",
    "        res = list(map(int, re.findall(r'\\d+', move_string)))\n",
    "        if(res[0] <= size+1 and res[1] <= size+1 and res[0] > 1 and res[1] > 1):\n",
    "            is_valid = 1\n",
    "        else:\n",
    "            is_valid = 0\n",
    "    else:\n",
    "        is_valid = 0\n",
    "                          \n",
    "    if(is_valid == 1):      \n",
    "        return 1                       \n",
    "    else:\n",
    "        return 0\n",
    "\n",
    "def check_valid_movelist(move_list, size):\n",
    "    valid_moves = []\n",
    "    for x in move_list:\n",
    "        if(check_valid_move(x, size) == 1):\n",
    "            valid_moves.append(x)   \n",
    "    return valid_moves"
   ]
  },
  {
   "cell_type": "markdown",
   "id": "979b8c3b",
   "metadata": {},
   "source": [
    "### Implementation of the Min-Max algorithm"
   ]
  },
  {
   "cell_type": "code",
   "execution_count": 4,
   "id": "9762efe7",
   "metadata": {},
   "outputs": [],
   "source": [
    "def minimax_root(depth, board, isMaximizing, size):\n",
    "    move_list = board.legal_moves\n",
    "    possible_moves = check_valid_movelist(move_list, size)\n",
    "    if(len(possible_moves) == 0):\n",
    "        print(\"No more moves\")\n",
    "        return\n",
    "    bestMove = -9999\n",
    "    bestMoveFinal = None\n",
    "    for x in possible_moves:\n",
    "        move = chess.Move.from_uci(str(x))\n",
    "        board.push(move)\n",
    "        value = max(bestMove, minimax(depth - 1, board, False, size))\n",
    "        board.pop()\n",
    "        if(value > bestMove):\n",
    "            bestMove = value\n",
    "            bestMoveFinal = move\n",
    "    return bestMoveFinal"
   ]
  },
  {
   "cell_type": "code",
   "execution_count": 5,
   "id": "eda3bd78",
   "metadata": {},
   "outputs": [],
   "source": [
    "def minimax(depth, board, is_maximizing, size):\n",
    "    if(depth == 0):\n",
    "        return -evaluation(board)\n",
    "    move_list = board.legal_moves\n",
    "    possible_moves = check_valid_movelist(move_list, size)\n",
    "    if(len(possible_moves) == 0):\n",
    "        return -evaluation(board)\n",
    "    if(is_maximizing):\n",
    "        bestMove = -9999\n",
    "        for x in possible_moves:\n",
    "            move = chess.Move.from_uci(str(x))\n",
    "            board.push(move)\n",
    "            bestMove = max(bestMove, minimax(depth - 1, board, False, size))\n",
    "            board.pop()\n",
    "        return bestMove\n",
    "    else:\n",
    "        bestMove = 9999\n",
    "        for x in possible_moves:\n",
    "            move = chess.Move.from_uci(str(x))\n",
    "            board.push(move)\n",
    "            bestMove = min(bestMove, -minimax(depth - 1, board, True, size))\n",
    "            board.pop()\n",
    "        return bestMove"
   ]
  },
  {
   "cell_type": "markdown",
   "id": "c158f4a2",
   "metadata": {},
   "source": [
    "### Choice and implementation of the Static Evaluation Function."
   ]
  },
  {
   "cell_type": "code",
   "execution_count": 6,
   "id": "e193c6d1",
   "metadata": {},
   "outputs": [],
   "source": [
    "def evaluation(board):\n",
    "    i = 0\n",
    "    evaluation = 0\n",
    "    while i < 63:\n",
    "        i += 1\n",
    "        x = True\n",
    "        try:\n",
    "            x = bool(board.piece_at(i).color)\n",
    "        except AttributeError as e:\n",
    "            x = x\n",
    "        evaluation = evaluation + (getPieceValue(str(board.piece_at(i))) if x else -getPieceValue(str(board.piece_at(i))))\n",
    "    return evaluation"
   ]
  },
  {
   "cell_type": "code",
   "execution_count": 7,
   "id": "2579318f",
   "metadata": {},
   "outputs": [],
   "source": [
    "def getPieceValue(piece):\n",
    "    if(piece == None):\n",
    "        return 0\n",
    "    value = 0\n",
    "    if piece == \"P\" or piece == \"p\":\n",
    "        value = 1\n",
    "    if piece == \"N\" or piece == \"n\":\n",
    "        value = 3\n",
    "    if piece == \"B\" or piece == \"b\":\n",
    "        value = 3\n",
    "    if piece == \"R\" or piece == \"r\":\n",
    "        value = 5\n",
    "    if piece == \"Q\" or piece == \"q\":\n",
    "        value = 9\n",
    "    return value"
   ]
  },
  {
   "cell_type": "markdown",
   "id": "03b81bde",
   "metadata": {},
   "source": [
    "### Playing The Game"
   ]
  },
  {
   "cell_type": "code",
   "execution_count": 12,
   "id": "02578bfa",
   "metadata": {
    "scrolled": true
   },
   "outputs": [
    {
     "name": "stdout",
     "output_type": "stream",
     "text": [
      "---- Human Player (small letter)----\n",
      ". . . . . . . .\n",
      ". . . . . . . .\n",
      ". . . . . . . .\n",
      ". . . . . . . .\n",
      "p n r . . . . .\n",
      ". . . . . . . .\n",
      ". P N . . . . .\n",
      ". . . . . . . .\n",
      "---- Computer Player (capital letter)----\n"
     ]
    },
    {
     "ename": "KeyboardInterrupt",
     "evalue": "Interrupted by user",
     "output_type": "error",
     "traceback": [
      "\u001b[1;31m---------------------------------------------------------------------------\u001b[0m",
      "\u001b[1;31mKeyboardInterrupt\u001b[0m                         Traceback (most recent call last)",
      "\u001b[1;32m~\\AppData\\Local\\Temp/ipykernel_3132/864488749.py\u001b[0m in \u001b[0;36m<module>\u001b[1;34m\u001b[0m\n\u001b[0;32m     11\u001b[0m \u001b[1;32mwhile\u001b[0m \u001b[0mm\u001b[0m \u001b[1;33m<\u001b[0m \u001b[1;36m100\u001b[0m\u001b[1;33m:\u001b[0m\u001b[1;33m\u001b[0m\u001b[1;33m\u001b[0m\u001b[0m\n\u001b[0;32m     12\u001b[0m     \u001b[1;32mif\u001b[0m \u001b[0mm\u001b[0m\u001b[1;33m%\u001b[0m\u001b[1;36m2\u001b[0m \u001b[1;33m==\u001b[0m \u001b[1;36m0\u001b[0m\u001b[1;33m:\u001b[0m\u001b[1;33m\u001b[0m\u001b[1;33m\u001b[0m\u001b[0m\n\u001b[1;32m---> 13\u001b[1;33m         \u001b[0mmove\u001b[0m \u001b[1;33m=\u001b[0m \u001b[0minput\u001b[0m\u001b[1;33m(\u001b[0m\u001b[1;34m\"Enter move <Sample a3a1>: \"\u001b[0m\u001b[1;33m)\u001b[0m\u001b[1;33m\u001b[0m\u001b[1;33m\u001b[0m\u001b[0m\n\u001b[0m\u001b[0;32m     14\u001b[0m         \u001b[1;32mif\u001b[0m \u001b[0mmove\u001b[0m \u001b[1;33m==\u001b[0m \u001b[1;34m'gg'\u001b[0m\u001b[1;33m:\u001b[0m\u001b[1;33m\u001b[0m\u001b[1;33m\u001b[0m\u001b[0m\n\u001b[0;32m     15\u001b[0m             \u001b[1;32mbreak\u001b[0m\u001b[1;33m\u001b[0m\u001b[1;33m\u001b[0m\u001b[0m\n",
      "\u001b[1;32m~\\anaconda3\\lib\\site-packages\\ipykernel\\kernelbase.py\u001b[0m in \u001b[0;36mraw_input\u001b[1;34m(self, prompt)\u001b[0m\n\u001b[0;32m   1004\u001b[0m                 \u001b[1;34m\"raw_input was called, but this frontend does not support input requests.\"\u001b[0m\u001b[1;33m\u001b[0m\u001b[1;33m\u001b[0m\u001b[0m\n\u001b[0;32m   1005\u001b[0m             )\n\u001b[1;32m-> 1006\u001b[1;33m         return self._input_request(\n\u001b[0m\u001b[0;32m   1007\u001b[0m             \u001b[0mstr\u001b[0m\u001b[1;33m(\u001b[0m\u001b[0mprompt\u001b[0m\u001b[1;33m)\u001b[0m\u001b[1;33m,\u001b[0m\u001b[1;33m\u001b[0m\u001b[1;33m\u001b[0m\u001b[0m\n\u001b[0;32m   1008\u001b[0m             \u001b[0mself\u001b[0m\u001b[1;33m.\u001b[0m\u001b[0m_parent_ident\u001b[0m\u001b[1;33m[\u001b[0m\u001b[1;34m\"shell\"\u001b[0m\u001b[1;33m]\u001b[0m\u001b[1;33m,\u001b[0m\u001b[1;33m\u001b[0m\u001b[1;33m\u001b[0m\u001b[0m\n",
      "\u001b[1;32m~\\anaconda3\\lib\\site-packages\\ipykernel\\kernelbase.py\u001b[0m in \u001b[0;36m_input_request\u001b[1;34m(self, prompt, ident, parent, password)\u001b[0m\n\u001b[0;32m   1049\u001b[0m             \u001b[1;32mexcept\u001b[0m \u001b[0mKeyboardInterrupt\u001b[0m\u001b[1;33m:\u001b[0m\u001b[1;33m\u001b[0m\u001b[1;33m\u001b[0m\u001b[0m\n\u001b[0;32m   1050\u001b[0m                 \u001b[1;31m# re-raise KeyboardInterrupt, to truncate traceback\u001b[0m\u001b[1;33m\u001b[0m\u001b[1;33m\u001b[0m\u001b[0m\n\u001b[1;32m-> 1051\u001b[1;33m                 \u001b[1;32mraise\u001b[0m \u001b[0mKeyboardInterrupt\u001b[0m\u001b[1;33m(\u001b[0m\u001b[1;34m\"Interrupted by user\"\u001b[0m\u001b[1;33m)\u001b[0m \u001b[1;32mfrom\u001b[0m \u001b[1;32mNone\u001b[0m\u001b[1;33m\u001b[0m\u001b[1;33m\u001b[0m\u001b[0m\n\u001b[0m\u001b[0;32m   1052\u001b[0m             \u001b[1;32mexcept\u001b[0m \u001b[0mException\u001b[0m\u001b[1;33m:\u001b[0m\u001b[1;33m\u001b[0m\u001b[1;33m\u001b[0m\u001b[0m\n\u001b[0;32m   1053\u001b[0m                 \u001b[0mself\u001b[0m\u001b[1;33m.\u001b[0m\u001b[0mlog\u001b[0m\u001b[1;33m.\u001b[0m\u001b[0mwarning\u001b[0m\u001b[1;33m(\u001b[0m\u001b[1;34m\"Invalid Message:\"\u001b[0m\u001b[1;33m,\u001b[0m \u001b[0mexc_info\u001b[0m\u001b[1;33m=\u001b[0m\u001b[1;32mTrue\u001b[0m\u001b[1;33m)\u001b[0m\u001b[1;33m\u001b[0m\u001b[1;33m\u001b[0m\u001b[0m\n",
      "\u001b[1;31mKeyboardInterrupt\u001b[0m: Interrupted by user"
     ]
    }
   ],
   "source": [
    "# 8/8/8/8/pnr5/8/1PN5/8\n",
    "board = chess.Board(\"8/8/8/8/pnr5/8/1PN5/8 b KQkq - 0 4\")\n",
    "m = 0\n",
    "\n",
    "size = 3\n",
    "\n",
    "print(\"---- Human Player (small letter)----\")\n",
    "print(board)\n",
    "print(\"---- Computer Player (capital letter)----\")\n",
    "\n",
    "while m < 100:\n",
    "    if m%2 == 0:\n",
    "        move = input(\"Enter move <Sample a3a1>: \")\n",
    "        if move == 'gg':\n",
    "            break\n",
    "        move = chess.Move.from_uci(str(move))\n",
    "        board.push(move)\n",
    "    else:\n",
    "        print(\"Computers Turn:\")\n",
    "        move = minimax_root(3, board, True, size)\n",
    "        if(move is None):\n",
    "            print(\"Game Over!\")\n",
    "            break\n",
    "        move = chess.Move.from_uci(str(move))\n",
    "        board.push(move)\n",
    "    print(board)\n",
    "    m += 1"
   ]
  },
  {
   "cell_type": "code",
   "execution_count": null,
   "id": "7d831332",
   "metadata": {},
   "outputs": [],
   "source": []
  }
 ],
 "metadata": {
  "kernelspec": {
   "display_name": "Python 3 (ipykernel)",
   "language": "python",
   "name": "python3"
  },
  "language_info": {
   "codemirror_mode": {
    "name": "ipython",
    "version": 3
   },
   "file_extension": ".py",
   "mimetype": "text/x-python",
   "name": "python",
   "nbconvert_exporter": "python",
   "pygments_lexer": "ipython3",
   "version": "3.9.7"
  }
 },
 "nbformat": 4,
 "nbformat_minor": 5
}
