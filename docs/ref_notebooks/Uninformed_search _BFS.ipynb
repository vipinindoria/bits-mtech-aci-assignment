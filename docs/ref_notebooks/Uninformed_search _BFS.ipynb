{
 "cells": [
  {
   "cell_type": "code",
   "execution_count": 2,
   "metadata": {
    "executionInfo": {
     "elapsed": 6,
     "status": "ok",
     "timestamp": 1654782403943,
     "user": {
      "displayName": "Indumathi Prabakeran",
      "userId": "04524088478274107060"
     },
     "user_tz": -330
    },
    "id": "04eolcGDigfD"
   },
   "outputs": [],
   "source": [
    "from collections import deque"
   ]
  },
  {
   "cell_type": "code",
   "execution_count": 1,
   "metadata": {
    "executionInfo": {
     "elapsed": 639,
     "status": "ok",
     "timestamp": 1654782401785,
     "user": {
      "displayName": "Indumathi Prabakeran",
      "userId": "04524088478274107060"
     },
     "user_tz": -330
    },
    "id": "Ex1wbaFDj-pk"
   },
   "outputs": [],
   "source": [
    "ROW = 10\n",
    "COL = 10"
   ]
  },
  {
   "cell_type": "markdown",
   "metadata": {
    "id": "ZgQ539H8J8hz"
   },
   "source": [
    "variable p is assigned a reference to a new Point object."
   ]
  },
  {
   "cell_type": "code",
   "execution_count": 3,
   "metadata": {
    "executionInfo": {
     "elapsed": 10,
     "status": "ok",
     "timestamp": 1654782554817,
     "user": {
      "displayName": "Indumathi Prabakeran",
      "userId": "04524088478274107060"
     },
     "user_tz": -330
    },
    "id": "LBAm94irkO3u"
   },
   "outputs": [],
   "source": [
    "# To store matrix cell cordinates\n",
    "class Point:\n",
    "    def __init__(self,x: int, y: int):\n",
    "        self.x = x\n",
    "        self.y = y\n",
    " \n",
    "# A data structure for queue used in BFS\n",
    "class queueNode:\n",
    "    def __init__(self,pt: Point, dist: int):\n",
    "        self.pt = pt  # The coordinates of the cell\n",
    "        self.dist = dist  # Cell's distance from the source"
   ]
  },
  {
   "cell_type": "code",
   "execution_count": 4,
   "metadata": {
    "executionInfo": {
     "elapsed": 1127,
     "status": "ok",
     "timestamp": 1654782606621,
     "user": {
      "displayName": "Indumathi Prabakeran",
      "userId": "04524088478274107060"
     },
     "user_tz": -330
    },
    "id": "BCpxiW5CkV-T"
   },
   "outputs": [],
   "source": [
    "# Check whether given cell(row,col)\n",
    "# is a valid cell or not\n",
    "def isValid(row: int, col: int):\n",
    "    return (row >= 0) and (row < ROW) and (col >= 0) and (col < COL)"
   ]
  },
  {
   "cell_type": "code",
   "execution_count": 5,
   "metadata": {
    "executionInfo": {
     "elapsed": 5,
     "status": "ok",
     "timestamp": 1654782610103,
     "user": {
      "displayName": "Indumathi Prabakeran",
      "userId": "04524088478274107060"
     },
     "user_tz": -330
    },
    "id": "bqOepC2bk4wY"
   },
   "outputs": [],
   "source": [
    "# These arrays are used to get row and column\n",
    "# numbers of 4 neighbours of a given cell\n",
    "rowNum = [-1, 0, 0, 1]\n",
    "colNum = [0, -1, 1, 0]\n",
    "# up, left, right, down "
   ]
  },
  {
   "cell_type": "code",
   "execution_count": 6,
   "metadata": {
    "executionInfo": {
     "elapsed": 1132,
     "status": "ok",
     "timestamp": 1654782615431,
     "user": {
      "displayName": "Indumathi Prabakeran",
      "userId": "04524088478274107060"
     },
     "user_tz": -330
    },
    "id": "etsSjiDUlEiq"
   },
   "outputs": [],
   "source": [
    "# Function to find the shortest path between\n",
    "# a given source cell to a destination cell\n",
    "def BFS(mat, src: Point, dest: Point):\n",
    "     \n",
    "    # check source and destination cell\n",
    "    # of the matrix have value 1\n",
    "    if mat[src.x][src.y]!=1 or mat[dest.x][dest.y]!=1:\n",
    "        return -1\n",
    "     \n",
    "    visited = [[False for i in range(COL)] for j in range(ROW)]  # Closed list\n",
    "    \n",
    "    # Mark the source cell as visited\n",
    "    visited[src.x][src.y] = True\n",
    "     \n",
    "    # Create a queue for BFS\n",
    "    q = deque()   # open list\n",
    "     \n",
    "    # Distance of source cell is 0\n",
    "    s = queueNode(src,0)\n",
    "    q.append(s) #  Enqueue source cell\n",
    "   \n",
    "    # Do a BFS starting from source cell\n",
    "    while q:\n",
    " \n",
    "        curr = q.popleft() # Dequeue the front cell\n",
    "        \n",
    "        # If we have reached the destination cell,\n",
    "        # we are done\n",
    "        pt = curr.pt\n",
    "        if pt.x == dest.x and pt.y == dest.y:   #--> Goal Test\n",
    "            return curr.dist\n",
    "         \n",
    "        # Otherwise enqueue its adjacent cells\n",
    "        for i in range(4):\n",
    "            row = pt.x + rowNum[i]     # successor function for state transition\n",
    "            col = pt.y + colNum[i]\n",
    "            \n",
    "             \n",
    "            # if adjacent cell is valid, has path \n",
    "            # and not visited yet, enqueue it.\n",
    "            if (isValid(row,col) and\n",
    "               mat[row][col] == 1 and\n",
    "                not visited[row][col]):\n",
    "                visited[row][col] = True\n",
    "                Adjcell = queueNode(Point(row,col),\n",
    "                                    curr.dist+1)  # path computation\n",
    "                q.append(Adjcell)\n",
    "     \n",
    "    # Return -1 if destination cannot be reached\n",
    "    return -1"
   ]
  },
  {
   "cell_type": "code",
   "execution_count": 9,
   "metadata": {
    "colab": {
     "base_uri": "https://localhost:8080/"
    },
    "executionInfo": {
     "elapsed": 10377,
     "status": "ok",
     "timestamp": 1654785057763,
     "user": {
      "displayName": "Indumathi Prabakeran",
      "userId": "04524088478274107060"
     },
     "user_tz": -330
    },
    "id": "d9NhwCbwleHr",
    "outputId": "ec027c7e-ac4c-4f9f-d4ce-1fdfab213344"
   },
   "outputs": [
    {
     "name": "stdout",
     "output_type": "stream",
     "text": [
      "Enter x co-ordinate of start node:0\n",
      "Enter y co-ordinate of start node:0\n",
      "Enter x co-ordinate of destination node:5\n",
      "Enter y co-ordinate of destination node:4\n",
      "Path doesn't exist\n"
     ]
    }
   ],
   "source": [
    "def main():\n",
    "    # environment design \n",
    "    mat = [[ 1, 1, 1, 1, 1, 1, 0, 1, 1, 1 ],\n",
    "           [ 1, 0, 1, 0, 1, 1, 1, 0, 1, 1 ],\n",
    "           [ 1, 1, 1, 0, 1, 1, 0, 1, 0, 1 ],\n",
    "           [ 0, 0, 0, 0, 1, 0, 0, 0, 0, 1 ],\n",
    "           [ 1, 1, 1, 0, 1, 1, 1, 0, 1, 0 ],\n",
    "           [ 1, 0, 1, 1, 0, 1, 0, 1, 0, 0 ],\n",
    "           [ 1, 0, 0, 0, 0, 0, 0, 0, 0, 1 ],\n",
    "           [ 1, 0, 1, 1, 1, 1, 0, 1, 1, 1 ],\n",
    "           [ 1, 1, 0, 0, 0, 0, 1, 0, 0, 1 ],\n",
    "           [ 1, 0, 0, 0, 0, 0, 0, 0, 0, 1 ]]\n",
    "    x = int(input(\"Enter x co-ordinate of start node:\"))\n",
    "    y = int(input(\"Enter y co-ordinate of start node:\"))\n",
    "    p = int(input(\"Enter x co-ordinate of destination node:\"))\n",
    "    q = int(input(\"Enter y co-ordinate of destination node:\"))       \n",
    "    source = Point(x,y)\n",
    "    dest = Point(p,q)\n",
    "     \n",
    "    dist = BFS(mat,source,dest)\n",
    "    \n",
    "    if dist!=-1:\n",
    "        print(\"Path length is\",dist)\n",
    "    else:\n",
    "        print(\"Path doesn't exist\")\n",
    "main()"
   ]
  },
  {
   "cell_type": "code",
   "execution_count": null,
   "metadata": {
    "id": "XgPnPgPAl_01"
   },
   "outputs": [],
   "source": [
    "# BFS is not optimal if edge weights are not 1 "
   ]
  },
  {
   "cell_type": "code",
   "execution_count": null,
   "metadata": {
    "id": "z-hBSdZZLQpO"
   },
   "outputs": [],
   "source": []
  }
 ],
 "metadata": {
  "colab": {
   "collapsed_sections": [],
   "name": "Uninformed_search _BFS.ipynb",
   "provenance": []
  },
  "kernelspec": {
   "display_name": "Python 3 (ipykernel)",
   "language": "python",
   "name": "python3"
  },
  "language_info": {
   "codemirror_mode": {
    "name": "ipython",
    "version": 3
   },
   "file_extension": ".py",
   "mimetype": "text/x-python",
   "name": "python",
   "nbconvert_exporter": "python",
   "pygments_lexer": "ipython3",
   "version": "3.9.7"
  }
 },
 "nbformat": 4,
 "nbformat_minor": 1
}
